{
 "cells": [
  {
   "cell_type": "code",
   "execution_count": 3,
   "id": "53d84422",
   "metadata": {
    "ExecuteTime": {
     "end_time": "2022-10-30T20:58:49.103523Z",
     "start_time": "2022-10-30T20:58:49.083012Z"
    }
   },
   "outputs": [],
   "source": [
    "from IPython.display import Image\n",
    "import numpy as np\n",
    "import scipy.fftpack as fourier\n",
    "import matplotlib.pyplot as plt\n",
    "import scipy.io.wavfile as waves\n",
    "import winsound\n",
    "import os \n",
    "from os import listdir\n",
    "from os import walk\n",
    "from os.path import isfile, isdir, join\n",
    "import re \n",
    "from sklearn.preprocessing import Normalizer\n",
    "import shutil \n",
    "#import cv2\n",
    "from numpy import asarray\n",
    "from numpy import savez_compressed\n",
    "from numpy import load\n",
    "import glob\n",
    "import os, sys"
   ]
  },
  {
   "cell_type": "code",
   "execution_count": 4,
   "id": "c0c54c7a",
   "metadata": {
    "ExecuteTime": {
     "end_time": "2022-10-30T20:58:49.433385Z",
     "start_time": "2022-10-30T20:58:49.423382Z"
    }
   },
   "outputs": [],
   "source": [
    "def atoi(text):\n",
    "    return int(text) if text.isdigit() else text\n",
    "\n",
    "def natural_keys(text):\n",
    "    '''\n",
    "    alist.sort(key=natural_keys) sorts in human order\n",
    "     (See Toothy's implementation in the comments)\n",
    "    '''\n",
    "    return [ atoi(c) for c in re.split(r'(\\d+)', text) ]"
   ]
  },
  {
   "cell_type": "code",
   "execution_count": 5,
   "id": "966569f1",
   "metadata": {
    "ExecuteTime": {
     "end_time": "2022-10-30T20:58:50.356060Z",
     "start_time": "2022-10-30T20:58:49.996267Z"
    },
    "scrolled": true
   },
   "outputs": [
    {
     "ename": "FileNotFoundError",
     "evalue": "[WinError 3] El sistema no puede encontrar la ruta especificada: '\\\\Users\\\\robin\\\\OneDrive - Universidad Austral de Chile\\\\Material Alfredo\\\\database_robin\\\\DatasetRobin'",
     "output_type": "error",
     "traceback": [
      "\u001b[1;31m---------------------------------------------------------------------------\u001b[0m",
      "\u001b[1;31mFileNotFoundError\u001b[0m                         Traceback (most recent call last)",
      "\u001b[1;32m~\\AppData\\Local\\Temp/ipykernel_7308/3334353144.py\u001b[0m in \u001b[0;36m<module>\u001b[1;34m\u001b[0m\n\u001b[0;32m      6\u001b[0m \u001b[0mnewname\u001b[0m \u001b[1;33m=\u001b[0m \u001b[1;34m\"palpation\"\u001b[0m\u001b[1;33m\u001b[0m\u001b[1;33m\u001b[0m\u001b[0m\n\u001b[0;32m      7\u001b[0m \u001b[0mtail\u001b[0m   \u001b[1;33m=\u001b[0m \u001b[1;34m\".npz\"\u001b[0m\u001b[1;33m\u001b[0m\u001b[1;33m\u001b[0m\u001b[0m\n\u001b[1;32m----> 8\u001b[1;33m \u001b[0mdatabase\u001b[0m \u001b[1;33m=\u001b[0m \u001b[0mos\u001b[0m\u001b[1;33m.\u001b[0m\u001b[0mlistdir\u001b[0m\u001b[1;33m(\u001b[0m\u001b[0mruta\u001b[0m\u001b[1;33m)\u001b[0m\u001b[1;33m\u001b[0m\u001b[1;33m\u001b[0m\u001b[0m\n\u001b[0m\u001b[0;32m      9\u001b[0m \u001b[0mdatabase\u001b[0m\u001b[1;33m.\u001b[0m\u001b[0msort\u001b[0m\u001b[1;33m(\u001b[0m\u001b[0mkey\u001b[0m\u001b[1;33m=\u001b[0m\u001b[0mnatural_keys\u001b[0m\u001b[1;33m)\u001b[0m\u001b[1;33m\u001b[0m\u001b[1;33m\u001b[0m\u001b[0m\n\u001b[0;32m     10\u001b[0m \u001b[1;31m#print(database)\u001b[0m\u001b[1;33m\u001b[0m\u001b[1;33m\u001b[0m\u001b[1;33m\u001b[0m\u001b[0m\n",
      "\u001b[1;31mFileNotFoundError\u001b[0m: [WinError 3] El sistema no puede encontrar la ruta especificada: '\\\\Users\\\\robin\\\\OneDrive - Universidad Austral de Chile\\\\Material Alfredo\\\\database_robin\\\\DatasetRobin'"
     ]
    }
   ],
   "source": [
    "from cepstrum import cepstrum\n",
    "ruta = r\"\\Users\\robin\\OneDrive - Universidad Austral de Chile\\Material Alfredo\\database_robin\\DatasetRobin\"\n",
    "ruta_nueva = r\"\\Users\\robin\\OneDrive - Universidad Austral de Chile\\Material Alfredo\\database_robin\\Datasetnpz_3\"\n",
    "emb = dict()\n",
    "count   =  1\n",
    "newname = \"palpation\"\n",
    "tail   = \".npz\"  \n",
    "database = os.listdir(ruta)\n",
    "database.sort(key=natural_keys)\n",
    "#print(database)\n",
    "for file in database:\n",
    "    filename = os.path.join(ruta,file)\n",
    "    cep_filename =cepstrum(filename)\n",
    "    #print(cep_filename)\n",
    "    newfile=os.path.join(ruta_nueva,newname)+str(count)+tail\n",
    "    #np.savez(newfile,cep_filename)\n",
    "    count+=1\n"
   ]
  },
  {
   "cell_type": "code",
   "execution_count": null,
   "id": "e93a70f9",
   "metadata": {
    "ExecuteTime": {
     "end_time": "2021-09-28T17:44:11.365019Z",
     "start_time": "2021-09-28T17:44:11.365019Z"
    }
   },
   "outputs": [],
   "source": [
    "#data = np.load('palpation2.npz')\n",
    "#lst = data.files\n",
    "#for item in lst:\n",
    "   #    print(data[item])"
   ]
  },
  {
   "cell_type": "code",
   "execution_count": 6,
   "id": "5ab63916",
   "metadata": {
    "ExecuteTime": {
     "end_time": "2021-09-28T17:47:12.932661Z",
     "start_time": "2021-09-28T17:47:12.405525Z"
    }
   },
   "outputs": [
    {
     "name": "stdout",
     "output_type": "stream",
     "text": [
      "(900, 16384)\n"
     ]
    }
   ],
   "source": [
    "npzfilespath =r\"\\Users\\robin\\OneDrive - Universidad Austral de Chile\\Material Alfredo\\proyecto_palpador\\database_1\\Datasetnpz_3\"   \n",
    "os.chdir(npzfilespath)\n",
    "npfiles= glob.glob(\"*.npz\")\n",
    "npfiles.sort(key=natural_keys)\n",
    "all_arrays = []\n",
    "#print(npfiles)\n",
    "for i, npfile in enumerate(npfiles):\n",
    "    #print(npfile)\n",
    "    X = np.load(os.path.join(npzfilespath, npfile))\n",
    "    #print(X)\n",
    "    #print(len(X['arr_0']))\n",
    "    all_arrays.append(X['arr_0'])\n",
    "big_matrix = np.array(all_arrays)\n",
    "np.savez('big_matrix_16384',big_matrix)\n",
    "print(big_matrix.shape)\n",
    "\n"
   ]
  },
  {
   "cell_type": "code",
   "execution_count": null,
   "id": "30cf3dd8",
   "metadata": {},
   "outputs": [],
   "source": []
  }
 ],
 "metadata": {
  "kernelspec": {
   "display_name": "Python 3 (ipykernel)",
   "language": "python",
   "name": "python3"
  },
  "language_info": {
   "codemirror_mode": {
    "name": "ipython",
    "version": 3
   },
   "file_extension": ".py",
   "mimetype": "text/x-python",
   "name": "python",
   "nbconvert_exporter": "python",
   "pygments_lexer": "ipython3",
   "version": "3.9.6"
  },
  "latex_envs": {
   "LaTeX_envs_menu_present": true,
   "autoclose": false,
   "autocomplete": true,
   "bibliofile": "biblio.bib",
   "cite_by": "apalike",
   "current_citInitial": 1,
   "eqLabelWithNumbers": true,
   "eqNumInitial": 1,
   "hotkeys": {
    "equation": "Ctrl-E",
    "itemize": "Ctrl-I"
   },
   "labels_anchors": false,
   "latex_user_defs": false,
   "report_style_numbering": false,
   "user_envs_cfg": false
  },
  "nbTranslate": {
   "displayLangs": [
    "*"
   ],
   "hotkey": "alt-t",
   "langInMainMenu": true,
   "sourceLang": "en",
   "targetLang": "",
   "useGoogleTranslate": true
  },
  "toc": {
   "base_numbering": 1,
   "nav_menu": {},
   "number_sections": true,
   "sideBar": true,
   "skip_h1_title": false,
   "title_cell": "Table of Contents",
   "title_sidebar": "Contents",
   "toc_cell": false,
   "toc_position": {},
   "toc_section_display": true,
   "toc_window_display": false
  },
  "varInspector": {
   "cols": {
    "lenName": 16,
    "lenType": 16,
    "lenVar": 40
   },
   "kernels_config": {
    "python": {
     "delete_cmd_postfix": "",
     "delete_cmd_prefix": "del ",
     "library": "var_list.py",
     "varRefreshCmd": "print(var_dic_list())"
    },
    "r": {
     "delete_cmd_postfix": ") ",
     "delete_cmd_prefix": "rm(",
     "library": "var_list.r",
     "varRefreshCmd": "cat(var_dic_list()) "
    }
   },
   "position": {
    "height": "144px",
    "left": "1510px",
    "right": "20px",
    "top": "120px",
    "width": "350px"
   },
   "types_to_exclude": [
    "module",
    "function",
    "builtin_function_or_method",
    "instance",
    "_Feature"
   ],
   "window_display": false
  }
 },
 "nbformat": 4,
 "nbformat_minor": 5
}
